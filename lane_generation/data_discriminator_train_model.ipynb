{
 "cells": [
  {
   "cell_type": "code",
   "execution_count": 1,
   "metadata": {},
   "outputs": [],
   "source": [
    "import os\n",
    "import numpy\n",
    "import cv2\n",
    "import matplotlib\n",
    "from PIL import Image\n",
    "import tensorflow"
   ]
  },
  {
   "cell_type": "code",
   "execution_count": 2,
   "metadata": {},
   "outputs": [],
   "source": [
    "# width = 1640\n",
    "width_standard= 1640\n",
    "height_standard = 590\n",
    "# width = 1152\n",
    "# height = 192\n",
    "\n",
    "width = 512\n",
    "height = 128"
   ]
  },
  {
   "cell_type": "code",
   "execution_count": 3,
   "metadata": {},
   "outputs": [],
   "source": [
    "fileXTrain = \"./DataClean/Train/X\"\n",
    "fileYTrain = \"./DataClean/Train/Y\"\n",
    "fileXVal = \"./DataClean/Val/X\"\n",
    "fileYVal = \"./DataClean/Val/Y\"\n",
    "fileDiscriminatorRaw = \"./DataDiscriminator/DataRaw\"\n",
    "fileDataDiscriminatorTrue = \"./DataDiscriminator/DataTrue\"\n",
    "fileDataDiscriminatorPredict = \"./DataDiscriminator/DataFalse\"\n",
    "\n",
    "fileTestRaw = \"./DataTest/DataRaw\"\n",
    "fileTest = \"./DataTest/Data\""
   ]
  },
  {
   "cell_type": "code",
   "execution_count": 4,
   "metadata": {},
   "outputs": [],
   "source": [
    "def regon_of_interest(image):\n",
    "    polygons = numpy.array([[(0, height_standard), (0, 300), (700, 240), (850, 240), (width_standard, 300), (width_standard, height_standard)]])\n",
    "    mask = numpy.zeros_like(image)\n",
    "    cv2.fillPoly(mask, polygons, 255)\n",
    "    mask = cv2.bitwise_and(image, mask)\n",
    "    return mask"
   ]
  },
  {
   "cell_type": "code",
   "execution_count": 5,
   "metadata": {},
   "outputs": [],
   "source": [
    "def crop_image(image):\n",
    "    return numpy.array(Image.fromarray(image).crop((0, 240, width_standard, height_standard)))"
   ]
  },
  {
   "cell_type": "code",
   "execution_count": 6,
   "metadata": {},
   "outputs": [],
   "source": [
    "x = 0\n",
    "y = 0\n",
    "\n",
    "def read_data_file(path, fileSave, quantity = None):\n",
    "    global x, y\n",
    "\n",
    "    for file in os.listdir(path):\n",
    "        if (bool(quantity) and x == quantity and y == quantity): \n",
    "            break\n",
    "        file_name = os.path.join(path, file)\n",
    "        # print(file_name)\n",
    "        if (\".jpg\" in file):\n",
    "            if (not (x == y or x + 1 == y)): \n",
    "                print(\"Error X\")\n",
    "                break\n",
    "            file_save_train_name = fileSave + \"/X/\" + str(x) + \".jpg\"\n",
    "            img = numpy.array(Image.open(file_name))\n",
    "            img = cv2.cvtColor(img, cv2.COLOR_BGR2GRAY)\n",
    "            img = regon_of_interest(img)\n",
    "            img = crop_image(img)\n",
    "            img = cv2.GaussianBlur(src=img, ksize=(5, 5), sigmaX=0, sigmaY=0)\n",
    "            img = cv2.resize(img, (width, height))\n",
    "            img = cv2.Canny(img, 50, 150)\n",
    "            img = img / 255.0\n",
    "            cv2.imwrite(file_save_train_name, img)\n",
    "            x = x + 1\n",
    "            # matplotlib.pyplot.imshow(img)\n",
    "            # matplotlib.pyplot.show()\n",
    "        if (\".txt\" in file):\n",
    "            with open(file_name, 'r') as f:\n",
    "                if (not (x == y or x == y + 1)): \n",
    "                    print(\"Error Y\")\n",
    "                    break\n",
    "                file_save_name = fileSave + \"/Y/\" + str(y) + \".jpg\"\n",
    "                labels = f.read()\n",
    "                labels = labels.split('\\n')\n",
    "                if (labels[-1] == ''): labels.pop()\n",
    "                labels = [[word] for word in labels]\n",
    "                length = len(labels)\n",
    "                for i in range(0, length, 1):\n",
    "                    numbers = [float(num) for num in labels[i][0].split()]\n",
    "                    sub_arrays = [numbers[i:i+2] for i in range(0, len(numbers), 2)]\n",
    "                    labels[i][0] = sub_arrays\n",
    "                line_image = numpy.zeros((height_standard, width_standard))\n",
    "                for i in labels:\n",
    "                    for j in i:\n",
    "                        j = [[j[t], j[t+1]] for t in range(len(j)-1)]\n",
    "                        for z in j:\n",
    "                            cv2.line(line_image, tuple(map(int, z[0])), tuple(map(int, z[1])), color = (255, 255, 255), thickness=5)\n",
    "                # matplotlib.pyplot.imshow(line_image)\n",
    "                # matplotlib.pyplot.show()\n",
    "                line_image = crop_image(line_image)\n",
    "                line_image = cv2.resize(line_image, (width, height))\n",
    "                line_image = line_image / 255.0\n",
    "                cv2.imwrite(file_save_name, line_image)\n",
    "                y = y + 1"
   ]
  },
  {
   "cell_type": "code",
   "execution_count": 7,
   "metadata": {},
   "outputs": [],
   "source": [
    "xImage = []\n",
    "xImgTrain = []\n",
    "\n",
    "yImagePredict = [] #image false"
   ]
  },
  {
   "cell_type": "code",
   "execution_count": 8,
   "metadata": {},
   "outputs": [
    {
     "name": "stdout",
     "output_type": "stream",
     "text": [
      "./DataTest/DataRaw\\06030819_0755.MP4\n",
      "./DataTest/DataRaw\\06030822_0756.MP4\n",
      "./DataTest/DataRaw\\06030825_0757.MP4\n",
      "./DataTest/DataRaw\\06030828_0758.MP4\n",
      "./DataTest/DataRaw\\06030831_0759.MP4\n",
      "./DataTest/DataRaw\\06030834_0760.MP4\n",
      "./DataTest/DataRaw\\06030837_0761.MP4\n",
      "./DataTest/DataRaw\\06030840_0762.MP4\n",
      "./DataTest/DataRaw\\06030843_0763.MP4\n",
      "./DataTest/DataRaw\\06030846_0764.MP4\n",
      "./DataTest/DataRaw\\06030849_0765.MP4\n",
      "./DataTest/DataRaw\\06030852_0766.MP4\n",
      "./DataTest/DataRaw\\06030855_0767.MP4\n",
      "./DataTest/DataRaw\\06030858_0768.MP4\n",
      "./DataTest/DataRaw\\06030901_0769.MP4\n",
      "./DataTest/DataRaw\\06030904_0770.MP4\n",
      "./DataTest/DataRaw\\06030907_0771.MP4\n",
      "./DataTest/DataRaw\\06030910_0772.MP4\n",
      "./DataTest/DataRaw\\06030913_0773.MP4\n",
      "./DataTest/DataRaw\\06030916_0774.MP4\n"
     ]
    }
   ],
   "source": [
    "for file in os.listdir(fileTestRaw):\n",
    "    file_name = os.path.join(fileTestRaw, file)\n",
    "    print(file_name)\n",
    "    read_data_file(file_name, fileTest)\n"
   ]
  }
 ],
 "metadata": {
  "kernelspec": {
   "display_name": "AI",
   "language": "python",
   "name": "python3"
  },
  "language_info": {
   "codemirror_mode": {
    "name": "ipython",
    "version": 3
   },
   "file_extension": ".py",
   "mimetype": "text/x-python",
   "name": "python",
   "nbconvert_exporter": "python",
   "pygments_lexer": "ipython3",
   "version": "3.9.19"
  }
 },
 "nbformat": 4,
 "nbformat_minor": 2
}
