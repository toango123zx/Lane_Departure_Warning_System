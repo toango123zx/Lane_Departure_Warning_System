{
 "cells": [
  {
   "cell_type": "code",
   "execution_count": 9,
   "metadata": {},
   "outputs": [],
   "source": [
    "import os\n",
    "import numpy\n",
    "import cv2\n",
    "import matplotlib\n",
    "from PIL import Image\n",
    "import tensorflow"
   ]
  },
  {
   "cell_type": "code",
   "execution_count": 10,
   "metadata": {},
   "outputs": [],
   "source": [
    "# width = 1640\n",
    "width_standard= 1640\n",
    "height_standard = 590\n",
    "# width = 1152\n",
    "# height = 192\n",
    "\n",
    "width = 512\n",
    "height = 128"
   ]
  },
  {
   "cell_type": "code",
   "execution_count": 11,
   "metadata": {},
   "outputs": [],
   "source": [
    "fileXTrain = \"./DataClean/Train/X\"\n",
    "fileYTrain = \"./DataClean/Train/Y\"\n",
    "fileXVal = \"./DataClean/Val/X\"\n",
    "fileYVal = \"./DataClean/Val/Y\"\n",
    "fileDiscriminatorRaw = \"./DataDiscriminator/DataRaw\"\n",
    "fileDataDiscriminatorTrue = \"./DataDiscriminator/DataTrue\"\n",
    "fileDataDiscriminatorPredict = \"./DataDiscriminator/DataFalse\""
   ]
  },
  {
   "cell_type": "code",
   "execution_count": 12,
   "metadata": {},
   "outputs": [],
   "source": [
    "def regon_of_interest(image):\n",
    "    polygons = numpy.array([[(0, height_standard), (0, 300), (700, 240), (850, 240), (width_standard, 300), (width_standard, height_standard)]])\n",
    "    mask = numpy.zeros_like(image)\n",
    "    cv2.fillPoly(mask, polygons, 255)\n",
    "    mask = cv2.bitwise_and(image, mask)\n",
    "    return mask"
   ]
  },
  {
   "cell_type": "code",
   "execution_count": 13,
   "metadata": {},
   "outputs": [],
   "source": [
    "def crop_image(image):\n",
    "    return numpy.array(Image.fromarray(image).crop((0, 240, width_standard, height_standard)))"
   ]
  },
  {
   "cell_type": "code",
   "execution_count": 14,
   "metadata": {},
   "outputs": [],
   "source": [
    "x = 0\n",
    "y = 0\n",
    "\n",
    "def read_data_file(path, fileSave, quantity = None):\n",
    "    global x, y\n",
    "\n",
    "    for file in os.listdir(path):\n",
    "        if (bool(quantity) and x == quantity and y == quantity): \n",
    "            break\n",
    "        file_name = os.path.join(path, file)\n",
    "        # print(file_name)\n",
    "        if (\".jpg\" in file):\n",
    "            if (not (x == y or x + 1 == y)): \n",
    "                print(\"Error X\")\n",
    "                break\n",
    "            file_save_train_name = fileSave + \"/X/\" + str(x) + \".jpg\"\n",
    "            img = numpy.array(Image.open(file_name))\n",
    "            img = cv2.cvtColor(img, cv2.COLOR_BGR2GRAY)\n",
    "            img = regon_of_interest(img)\n",
    "            img = crop_image(img)\n",
    "            img = cv2.GaussianBlur(src=img, ksize=(5, 5), sigmaX=0, sigmaY=0)\n",
    "            img = cv2.resize(img, (width, height))\n",
    "            img = cv2.Canny(img, 50, 150)\n",
    "            img = img / 255.0\n",
    "            cv2.imwrite(file_save_train_name, img)\n",
    "            x = x + 1\n",
    "            # matplotlib.pyplot.imshow(img)\n",
    "            # matplotlib.pyplot.show()\n",
    "        if (\".txt\" in file):\n",
    "            with open(file_name, 'r') as f:\n",
    "                if (not (x == y or x == y + 1)): \n",
    "                    print(\"Error Y\")\n",
    "                    break\n",
    "                file_save_name = fileSave + \"/Y/\" + str(y) + \".jpg\"\n",
    "                labels = f.read()\n",
    "                labels = labels.split('\\n')\n",
    "                if (labels[-1] == ''): labels.pop()\n",
    "                labels = [[word] for word in labels]\n",
    "                length = len(labels)\n",
    "                for i in range(0, length, 1):\n",
    "                    numbers = [float(num) for num in labels[i][0].split()]\n",
    "                    sub_arrays = [numbers[i:i+2] for i in range(0, len(numbers), 2)]\n",
    "                    labels[i][0] = sub_arrays\n",
    "                line_image = numpy.zeros((height_standard, width_standard))\n",
    "                for i in labels:\n",
    "                    for j in i:\n",
    "                        j = [[j[t], j[t+1]] for t in range(len(j)-1)]\n",
    "                        for z in j:\n",
    "                            cv2.line(line_image, tuple(map(int, z[0])), tuple(map(int, z[1])), color = (255, 255, 255), thickness=5)\n",
    "                # matplotlib.pyplot.imshow(line_image)\n",
    "                # matplotlib.pyplot.show()\n",
    "                line_image = crop_image(line_image)\n",
    "                line_image = cv2.resize(line_image, (width, height))\n",
    "                line_image = line_image / 255.0\n",
    "                cv2.imwrite(file_save_name, line_image)\n",
    "                y = y + 1"
   ]
  },
  {
   "cell_type": "code",
   "execution_count": 15,
   "metadata": {},
   "outputs": [],
   "source": [
    "xImage = []\n",
    "xImgTrain = []\n",
    "\n",
    "yImagePredict = [] #image false"
   ]
  },
  {
   "cell_type": "code",
   "execution_count": 16,
   "metadata": {},
   "outputs": [
    {
     "name": "stdout",
     "output_type": "stream",
     "text": [
      "./DataDiscriminator/DataRaw\\05250340_0277.MP4\n"
     ]
    },
    {
     "name": "stdout",
     "output_type": "stream",
     "text": [
      "./DataDiscriminator/DataRaw\\05250343_0278.MP4\n",
      "./DataDiscriminator/DataRaw\\05250358_0283.MP4\n",
      "./DataDiscriminator/DataRaw\\05250401_0284.MP4\n",
      "./DataDiscriminator/DataRaw\\05250416_0289.MP4\n",
      "./DataDiscriminator/DataRaw\\05250419_0290.MP4\n",
      "./DataDiscriminator/DataRaw\\05250434_0295.MP4\n",
      "./DataDiscriminator/DataRaw\\05250437_0296.MP4\n",
      "./DataDiscriminator/DataRaw\\05250452_0301.MP4\n",
      "./DataDiscriminator/DataRaw\\05250455_0302.MP4\n",
      "./DataDiscriminator/DataRaw\\05250510_0307.MP4\n",
      "./DataDiscriminator/DataRaw\\05250523_0308.MP4\n",
      "./DataDiscriminator/DataRaw\\05250538_0313.MP4\n",
      "./DataDiscriminator/DataRaw\\05250541_0314.MP4\n"
     ]
    },
    {
     "ename": "KeyboardInterrupt",
     "evalue": "",
     "output_type": "error",
     "traceback": [
      "\u001b[1;31m---------------------------------------------------------------------------\u001b[0m",
      "\u001b[1;31mKeyboardInterrupt\u001b[0m                         Traceback (most recent call last)",
      "Cell \u001b[1;32mIn[16], line 4\u001b[0m\n\u001b[0;32m      2\u001b[0m file_name \u001b[38;5;241m=\u001b[39m os\u001b[38;5;241m.\u001b[39mpath\u001b[38;5;241m.\u001b[39mjoin(fileTestRaw, file)\n\u001b[0;32m      3\u001b[0m \u001b[38;5;28mprint\u001b[39m(file_name)\n\u001b[1;32m----> 4\u001b[0m \u001b[43mread_data_file\u001b[49m\u001b[43m(\u001b[49m\u001b[43mfile_name\u001b[49m\u001b[43m,\u001b[49m\u001b[43m \u001b[49m\u001b[43mfileDataTestTrue\u001b[49m\u001b[43m)\u001b[49m\n",
      "Cell \u001b[1;32mIn[14], line 52\u001b[0m, in \u001b[0;36mread_data_file\u001b[1;34m(path, fileSave, quantity)\u001b[0m\n\u001b[0;32m     49\u001b[0m             cv2\u001b[38;5;241m.\u001b[39mline(line_image, \u001b[38;5;28mtuple\u001b[39m(\u001b[38;5;28mmap\u001b[39m(\u001b[38;5;28mint\u001b[39m, z[\u001b[38;5;241m0\u001b[39m])), \u001b[38;5;28mtuple\u001b[39m(\u001b[38;5;28mmap\u001b[39m(\u001b[38;5;28mint\u001b[39m, z[\u001b[38;5;241m1\u001b[39m])), color \u001b[38;5;241m=\u001b[39m (\u001b[38;5;241m255\u001b[39m, \u001b[38;5;241m255\u001b[39m, \u001b[38;5;241m255\u001b[39m), thickness\u001b[38;5;241m=\u001b[39m\u001b[38;5;241m5\u001b[39m)\n\u001b[0;32m     50\u001b[0m \u001b[38;5;66;03m# matplotlib.pyplot.imshow(line_image)\u001b[39;00m\n\u001b[0;32m     51\u001b[0m \u001b[38;5;66;03m# matplotlib.pyplot.show()\u001b[39;00m\n\u001b[1;32m---> 52\u001b[0m line_image \u001b[38;5;241m=\u001b[39m \u001b[43mcrop_image\u001b[49m\u001b[43m(\u001b[49m\u001b[43mline_image\u001b[49m\u001b[43m)\u001b[49m\n\u001b[0;32m     53\u001b[0m line_image \u001b[38;5;241m=\u001b[39m cv2\u001b[38;5;241m.\u001b[39mresize(line_image, (width, height))\n\u001b[0;32m     54\u001b[0m line_image \u001b[38;5;241m=\u001b[39m line_image \u001b[38;5;241m/\u001b[39m \u001b[38;5;241m255.0\u001b[39m\n",
      "Cell \u001b[1;32mIn[13], line 2\u001b[0m, in \u001b[0;36mcrop_image\u001b[1;34m(image)\u001b[0m\n\u001b[0;32m      1\u001b[0m \u001b[38;5;28;01mdef\u001b[39;00m \u001b[38;5;21mcrop_image\u001b[39m(image):\n\u001b[1;32m----> 2\u001b[0m     \u001b[38;5;28;01mreturn\u001b[39;00m numpy\u001b[38;5;241m.\u001b[39marray(\u001b[43mImage\u001b[49m\u001b[38;5;241;43m.\u001b[39;49m\u001b[43mfromarray\u001b[49m\u001b[43m(\u001b[49m\u001b[43mimage\u001b[49m\u001b[43m)\u001b[49m\u001b[38;5;241;43m.\u001b[39;49m\u001b[43mcrop\u001b[49m\u001b[43m(\u001b[49m\u001b[43m(\u001b[49m\u001b[38;5;241;43m0\u001b[39;49m\u001b[43m,\u001b[49m\u001b[43m \u001b[49m\u001b[38;5;241;43m240\u001b[39;49m\u001b[43m,\u001b[49m\u001b[43m \u001b[49m\u001b[43mwidth_standard\u001b[49m\u001b[43m,\u001b[49m\u001b[43m \u001b[49m\u001b[43mheight_standard\u001b[49m\u001b[43m)\u001b[49m\u001b[43m)\u001b[49m)\n",
      "File \u001b[1;32mc:\\Users\\toang\\miniconda3\\envs\\AI\\lib\\site-packages\\PIL\\Image.py:1243\u001b[0m, in \u001b[0;36mImage.crop\u001b[1;34m(self, box)\u001b[0m\n\u001b[0;32m   1240\u001b[0m     \u001b[38;5;28;01mraise\u001b[39;00m \u001b[38;5;167;01mValueError\u001b[39;00m(msg)\n\u001b[0;32m   1242\u001b[0m \u001b[38;5;28mself\u001b[39m\u001b[38;5;241m.\u001b[39mload()\n\u001b[1;32m-> 1243\u001b[0m \u001b[38;5;28;01mreturn\u001b[39;00m \u001b[38;5;28mself\u001b[39m\u001b[38;5;241m.\u001b[39m_new(\u001b[38;5;28;43mself\u001b[39;49m\u001b[38;5;241;43m.\u001b[39;49m\u001b[43m_crop\u001b[49m\u001b[43m(\u001b[49m\u001b[38;5;28;43mself\u001b[39;49m\u001b[38;5;241;43m.\u001b[39;49m\u001b[43mim\u001b[49m\u001b[43m,\u001b[49m\u001b[43m \u001b[49m\u001b[43mbox\u001b[49m\u001b[43m)\u001b[49m)\n",
      "File \u001b[1;32mc:\\Users\\toang\\miniconda3\\envs\\AI\\lib\\site-packages\\PIL\\Image.py:1263\u001b[0m, in \u001b[0;36mImage._crop\u001b[1;34m(self, im, box)\u001b[0m\n\u001b[0;32m   1259\u001b[0m absolute_values \u001b[38;5;241m=\u001b[39m (\u001b[38;5;28mabs\u001b[39m(x1 \u001b[38;5;241m-\u001b[39m x0), \u001b[38;5;28mabs\u001b[39m(y1 \u001b[38;5;241m-\u001b[39m y0))\n\u001b[0;32m   1261\u001b[0m _decompression_bomb_check(absolute_values)\n\u001b[1;32m-> 1263\u001b[0m \u001b[38;5;28;01mreturn\u001b[39;00m \u001b[43mim\u001b[49m\u001b[38;5;241;43m.\u001b[39;49m\u001b[43mcrop\u001b[49m\u001b[43m(\u001b[49m\u001b[43m(\u001b[49m\u001b[43mx0\u001b[49m\u001b[43m,\u001b[49m\u001b[43m \u001b[49m\u001b[43my0\u001b[49m\u001b[43m,\u001b[49m\u001b[43m \u001b[49m\u001b[43mx1\u001b[49m\u001b[43m,\u001b[49m\u001b[43m \u001b[49m\u001b[43my1\u001b[49m\u001b[43m)\u001b[49m\u001b[43m)\u001b[49m\n",
      "\u001b[1;31mKeyboardInterrupt\u001b[0m: "
     ]
    }
   ],
   "source": [
    "for file in os.listdir(fileDiscriminatorRaw):\n",
    "    file_name = os.path.join(fileDiscriminatorRaw, file)\n",
    "    print(file_name)\n",
    "    read_data_file(file_name, fileDataDiscriminatorTrue)\n"
   ]
  }
 ],
 "metadata": {
  "kernelspec": {
   "display_name": "AI",
   "language": "python",
   "name": "python3"
  },
  "language_info": {
   "codemirror_mode": {
    "name": "ipython",
    "version": 3
   },
   "file_extension": ".py",
   "mimetype": "text/x-python",
   "name": "python",
   "nbconvert_exporter": "python",
   "pygments_lexer": "ipython3",
   "version": "3.9.19"
  }
 },
 "nbformat": 4,
 "nbformat_minor": 2
}
